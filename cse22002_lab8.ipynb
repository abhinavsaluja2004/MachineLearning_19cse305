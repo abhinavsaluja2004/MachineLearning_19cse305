{
 "cells": [
  {
   "cell_type": "code",
   "execution_count": 16,
   "id": "64c26f29-403c-4a31-bd64-5aadc0b6fa51",
   "metadata": {},
   "outputs": [],
   "source": [
    "import pandas as pd\n",
    "import numpy as np\n",
    "from scipy.stats import chi2_contingency\n",
    "from sklearn.model_selection import train_test_split\n",
    "from sklearn.naive_bayes import GaussianNB\n",
    "from sklearn.metrics import accuracy_score\n",
    "from sklearn.preprocessing import LabelEncoder"
   ]
  },
  {
   "cell_type": "markdown",
   "id": "29cb5658-b3a6-47c7-814d-421091987c71",
   "metadata": {},
   "source": [
    "Question 1"
   ]
  },
  {
   "cell_type": "code",
   "execution_count": 5,
   "id": "56636f2f-206d-495c-8c41-8586e0d78dab",
   "metadata": {},
   "outputs": [
    {
     "name": "stdout",
     "output_type": "stream",
     "text": [
      "Prior Probabilities for each class in 'buys_computer':\n",
      "buys_computer\n",
      "yes    0.642857\n",
      "no     0.357143\n",
      "Name: count, dtype: float64\n"
     ]
    }
   ],
   "source": [
    "# Function to calculate prior probabilities\n",
    "def calculate_prior_probabilities(df, class_column):\n",
    "    # Get the total number of instances\n",
    "    total_instances = len(df)\n",
    "    \n",
    "    # Get the count of each class\n",
    "    class_counts = df[class_column].value_counts()\n",
    "    \n",
    "    # Calculate the prior probability for each class\n",
    "    prior_probabilities = class_counts / total_instances\n",
    "    \n",
    "    return prior_probabilities\n",
    "\n",
    "# Load your dataset\n",
    "df = pd.read_excel(\"D:\\\\ThirdYear\\\\19cse305\\\\lab8\\\\lab8_data.xlsx\")\n",
    "\n",
    "# Specify the class label column\n",
    "class_column = 'buys_computer'\n",
    "\n",
    "# Calculate prior probabilities\n",
    "prior_probabilities = calculate_prior_probabilities(df, class_column)\n",
    "\n",
    "# Print prior probabilities\n",
    "print(\"Prior Probabilities for each class in 'buys_computer':\")\n",
    "print(prior_probabilities)\n"
   ]
  },
  {
   "cell_type": "markdown",
   "id": "b4147b2d-a977-4de0-96e9-13ff90865388",
   "metadata": {},
   "source": [
    "Question 2"
   ]
  },
  {
   "cell_type": "code",
   "execution_count": 7,
   "id": "4c68bb9f-80b8-449d-902a-6966e2fe4a32",
   "metadata": {},
   "outputs": [
    {
     "name": "stdout",
     "output_type": "stream",
     "text": [
      "Class Conditional Densities:\n",
      "\n",
      "Feature: age\n",
      "  Class: no\n",
      "age\n",
      "31...40    0.0\n",
      "<=30       0.6\n",
      ">40        0.4\n",
      "Name: proportion, dtype: float64\n",
      "  Class: yes\n",
      "age\n",
      "31...40    0.444444\n",
      "<=30       0.222222\n",
      ">40        0.333333\n",
      "Name: proportion, dtype: float64\n",
      "\n",
      "Feature: income\n",
      "  Class: no\n",
      "income\n",
      "high      0.4\n",
      "low       0.2\n",
      "medium    0.4\n",
      "Name: proportion, dtype: float64\n",
      "  Class: yes\n",
      "income\n",
      "high      0.222222\n",
      "low       0.333333\n",
      "medium    0.444444\n",
      "Name: proportion, dtype: float64\n",
      "\n",
      "Feature: student\n",
      "  Class: no\n",
      "student\n",
      "no     0.8\n",
      "yes    0.2\n",
      "Name: proportion, dtype: float64\n",
      "  Class: yes\n",
      "student\n",
      "no     0.333333\n",
      "yes    0.666667\n",
      "Name: proportion, dtype: float64\n",
      "\n",
      "Feature: credit_rating\n",
      "  Class: no\n",
      "credit_rating\n",
      "excellent    0.6\n",
      "fair         0.4\n",
      "Name: proportion, dtype: float64\n",
      "  Class: yes\n",
      "credit_rating\n",
      "excellent    0.333333\n",
      "fair         0.666667\n",
      "Name: proportion, dtype: float64\n"
     ]
    }
   ],
   "source": [
    "# Function to calculate class conditional densities for categorical features\n",
    "def calculate_class_conditional_densities(df, class_column):\n",
    "    # Separate the dataset by class\n",
    "    class_groups = df.groupby(class_column)\n",
    "    \n",
    "    # Create a dictionary to store conditional densities for each feature and class\n",
    "    conditional_densities = {}\n",
    "    \n",
    "    # Loop through each feature in the dataset (excluding the class column)\n",
    "    for feature in df.columns:\n",
    "        if feature != class_column:\n",
    "            # Create a dictionary for the current feature\n",
    "            feature_densities = {}\n",
    "            \n",
    "            # Loop through each class (e.g., \"yes\" and \"no\" in 'buys_computer')\n",
    "            for class_value, group in class_groups:\n",
    "                # Calculate the value counts for the feature within this class\n",
    "                value_counts = group[feature].value_counts(normalize=True)\n",
    "                \n",
    "                # Check for zero probabilities and fill with zero if missing\n",
    "                all_possible_values = df[feature].unique()\n",
    "                for value in all_possible_values:\n",
    "                    if value not in value_counts:\n",
    "                        value_counts[value] = 0.0\n",
    "                \n",
    "                # Sort values by the unique feature values\n",
    "                value_counts = value_counts.sort_index()\n",
    "                \n",
    "                # Store the conditional densities for this class\n",
    "                feature_densities[class_value] = value_counts\n",
    "            \n",
    "            # Store the densities for the current feature\n",
    "            conditional_densities[feature] = feature_densities\n",
    "    \n",
    "    return conditional_densities\n",
    "\n",
    "\n",
    "# Specify the class label column\n",
    "class_column = 'buys_computer'\n",
    "\n",
    "# Calculate class conditional densities\n",
    "class_conditional_densities = calculate_class_conditional_densities(df, class_column)\n",
    "\n",
    "# Print the class conditional densities\n",
    "print(\"Class Conditional Densities:\")\n",
    "for feature, densities in class_conditional_densities.items():\n",
    "    print(f\"\\nFeature: {feature}\")\n",
    "    for class_value, density in densities.items():\n",
    "        print(f\"  Class: {class_value}\")\n",
    "        print(density)\n"
   ]
  },
  {
   "cell_type": "markdown",
   "id": "d774c264-bcf1-4bb8-aeda-1125dbe4c91a",
   "metadata": {},
   "source": [
    "Question 3"
   ]
  },
  {
   "cell_type": "code",
   "execution_count": 9,
   "id": "d01ac955-1ec1-4a9d-a6a6-a163a10551b5",
   "metadata": {},
   "outputs": [
    {
     "name": "stdout",
     "output_type": "stream",
     "text": [
      "Chi-Square test between age and income:\n",
      "  Chi2 Statistic = 3.3249999999999997\n",
      "  p-value = 0.5049810026322079\n",
      "  Result: age and income are independent.\n",
      "\n",
      "\n",
      "Chi-Square test between age and student:\n",
      "  Chi2 Statistic = 0.4\n",
      "  p-value = 0.8187307530779818\n",
      "  Result: age and student are independent.\n",
      "\n",
      "\n",
      "Chi-Square test between age and credit_rating:\n",
      "  Chi2 Statistic = 0.11666666666666664\n",
      "  p-value = 0.9433354498734922\n",
      "  Result: age and credit_rating are independent.\n",
      "\n",
      "\n",
      "Chi-Square test between income and student:\n",
      "  Chi2 Statistic = 5.666666666666666\n",
      "  p-value = 0.05881647164242991\n",
      "  Result: income and student are independent.\n",
      "\n",
      "\n",
      "Chi-Square test between income and credit_rating:\n",
      "  Chi2 Statistic = 0.7291666666666666\n",
      "  p-value = 0.6944859597510076\n",
      "  Result: income and credit_rating are independent.\n",
      "\n",
      "\n",
      "Chi-Square test between student and credit_rating:\n",
      "  Chi2 Statistic = 0.0\n",
      "  p-value = 1.0\n",
      "  Result: student and credit_rating are independent.\n",
      "\n",
      "\n"
     ]
    }
   ],
   "source": [
    "# Function to perform chi-square test between two categorical features\n",
    "def chi_square_test(df, feature1, feature2):\n",
    "    # Create a contingency table\n",
    "    contingency_table = pd.crosstab(df[feature1], df[feature2])\n",
    "    \n",
    "    # Perform Chi-Square test\n",
    "    chi2, p_value, dof, expected = chi2_contingency(contingency_table)\n",
    "    \n",
    "    # Return the test results\n",
    "    return chi2, p_value\n",
    "\n",
    "\n",
    "# List of features to test for independence\n",
    "features = ['age', 'income', 'student', 'credit_rating']\n",
    "\n",
    "# Perform chi-square tests for all pairs of features\n",
    "for i in range(len(features)):\n",
    "    for j in range(i + 1, len(features)):\n",
    "        feature1 = features[i]\n",
    "        feature2 = features[j]\n",
    "        chi2, p_value = chi_square_test(df, feature1, feature2)\n",
    "        \n",
    "        print(f\"Chi-Square test between {feature1} and {feature2}:\")\n",
    "        print(f\"  Chi2 Statistic = {chi2}\")\n",
    "        print(f\"  p-value = {p_value}\")\n",
    "        if p_value < 0.05:\n",
    "            print(f\"  Result: {feature1} and {feature2} are dependent.\")\n",
    "        else:\n",
    "            print(f\"  Result: {feature1} and {feature2} are independent.\")\n",
    "        print(\"\\n\")\n"
   ]
  },
  {
   "cell_type": "markdown",
   "id": "1d0dff39-87bf-4274-9f89-61da13b43e34",
   "metadata": {},
   "source": [
    "Question 4"
   ]
  },
  {
   "cell_type": "code",
   "execution_count": 12,
   "id": "40dc3be5-3e9b-4efa-8dae-2b34b302ccb6",
   "metadata": {},
   "outputs": [
    {
     "name": "stdout",
     "output_type": "stream",
     "text": [
      "Training Accuracy: 77.78%\n",
      "Test Accuracy: 60.00%\n"
     ]
    }
   ],
   "source": [
    "# Function to load and prepare the data\n",
    "def load_data(file_path, class_column):\n",
    "    # Load the dataset\n",
    "    df = pd.read_excel(file_path)\n",
    "    \n",
    "    # Separate features (X) and target variable (y)\n",
    "    X = df.drop(columns=[class_column])  # All columns except the target\n",
    "    y = df[class_column]                 # Target column (class label)\n",
    "    \n",
    "    # Convert categorical variables to numerical (if needed)\n",
    "    X = pd.get_dummies(X, drop_first=True)  # One-hot encode categorical variables\n",
    "    \n",
    "    return X, y\n",
    "\n",
    "# Function to train a Naive Bayes classifier\n",
    "def train_naive_bayes(X, y):\n",
    "    # Split the data into training and test sets\n",
    "    X_train, X_test, y_train, y_test = train_test_split(X, y, test_size=0.3, random_state=42)\n",
    "    \n",
    "    # Initialize the GaussianNB model\n",
    "    model = GaussianNB()\n",
    "    \n",
    "    # Train the model\n",
    "    model.fit(X_train, y_train)\n",
    "    \n",
    "    # Predict on training set and test set\n",
    "    y_train_pred = model.predict(X_train)\n",
    "    y_test_pred = model.predict(X_test)\n",
    "    \n",
    "    # Calculate accuracy for training and test sets\n",
    "    train_accuracy = accuracy_score(y_train, y_train_pred)\n",
    "    test_accuracy = accuracy_score(y_test, y_test_pred)\n",
    "    \n",
    "    return model, train_accuracy, test_accuracy\n",
    "\n",
    "# Path to your dataset\n",
    "file_path = \"D:\\\\ThirdYear\\\\19cse305\\\\lab8\\\\lab8_data.xlsx\"  # Replace with the actual path\n",
    "class_column = 'buys_computer'  # Specify the class label column\n",
    "\n",
    "# Load and prepare data\n",
    "X, y = load_data(file_path, class_column)\n",
    "\n",
    "# Train Naive Bayes model\n",
    "model, train_accuracy, test_accuracy = train_naive_bayes(X, y)\n",
    "\n",
    "# Print results\n",
    "print(f\"Training Accuracy: {train_accuracy * 100:.2f}%\")\n",
    "print(f\"Test Accuracy: {test_accuracy * 100:.2f}%\")\n"
   ]
  },
  {
   "cell_type": "markdown",
   "id": "2e3c81d6-2715-49d8-9f5d-874af7c1cfbe",
   "metadata": {},
   "source": [
    "Question 5"
   ]
  },
  {
   "cell_type": "code",
   "execution_count": 17,
   "id": "dd057448-6904-4e54-a649-79bd8a47fd67",
   "metadata": {},
   "outputs": [],
   "source": [
    "# Function to load and prepare the data\n",
    "def load_and_prepare_data():\n",
    "    # Load data\n",
    "    df = pd.read_csv('D:\\\\ThirdYear\\\\19cse305\\\\lab8\\\\D2-Processed-features.csv')\n",
    "\n",
    "    # Encode categorical columns\n",
    "    label_encoders = {}\n",
    "    for column in df.select_dtypes(include=['object']).columns:\n",
    "        le = LabelEncoder()\n",
    "        df[column] = le.fit_transform(df[column])\n",
    "        label_encoders[column] = le\n",
    "\n",
    "    return df, label_encoders"
   ]
  },
  {
   "cell_type": "code",
   "execution_count": 18,
   "id": "a924fc72-4c5b-46f3-984a-b582ae908311",
   "metadata": {},
   "outputs": [
    {
     "data": {
      "text/plain": [
       "(0.28303747534516766, 0.26436781609195403)"
      ]
     },
     "execution_count": 18,
     "metadata": {},
     "output_type": "execute_result"
    }
   ],
   "source": [
    "df, label_encoders = load_and_prepare_data()\n",
    "# Prepare the data\n",
    "X = df.drop(columns=['believability'])  # Features (exclude target)\n",
    "y = df['believability']                 # Target variable\n",
    "\n",
    "# Split the data into training and test sets\n",
    "X_train, X_test, y_train, y_test = train_test_split(X, y, test_size=0.3, random_state=42)\n",
    "\n",
    "# Initialize the Gaussian Naive Bayes model\n",
    "model = GaussianNB()\n",
    "\n",
    "# Train the model on the training data\n",
    "model.fit(X_train, y_train)\n",
    "\n",
    "# Make predictions\n",
    "y_train_pred = model.predict(X_train)\n",
    "y_test_pred = model.predict(X_test)\n",
    "\n",
    "# Calculate accuracy for training and test sets\n",
    "train_accuracy = accuracy_score(y_train, y_train_pred)\n",
    "test_accuracy = accuracy_score(y_test, y_test_pred)\n",
    "\n",
    "# Output the results\n",
    "train_accuracy, test_accuracy\n"
   ]
  },
  {
   "cell_type": "code",
   "execution_count": null,
   "id": "5126eb17-ebcf-4645-a259-d9d9f002e2c5",
   "metadata": {},
   "outputs": [],
   "source": []
  }
 ],
 "metadata": {
  "kernelspec": {
   "display_name": "Python 3 (ipykernel)",
   "language": "python",
   "name": "python3"
  },
  "language_info": {
   "codemirror_mode": {
    "name": "ipython",
    "version": 3
   },
   "file_extension": ".py",
   "mimetype": "text/x-python",
   "name": "python",
   "nbconvert_exporter": "python",
   "pygments_lexer": "ipython3",
   "version": "3.11.7"
  }
 },
 "nbformat": 4,
 "nbformat_minor": 5
}
