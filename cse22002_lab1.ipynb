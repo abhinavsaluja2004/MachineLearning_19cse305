{
 "cells": [
  {
   "cell_type": "code",
   "execution_count": 10,
   "id": "458c1147-c84d-4b92-8bab-88b679084841",
   "metadata": {},
   "outputs": [],
   "source": [
    "import numpy as np"
   ]
  },
  {
   "cell_type": "code",
   "execution_count": 53,
   "id": "2d9b4448-731f-436d-bb0f-b7b318e9d722",
   "metadata": {},
   "outputs": [],
   "source": [
    "def countConsonantsAndVowels(str1: str):\n",
    "    ans = {'consonants' : 0, 'vowels' : 0}\n",
    "    for s in str1:\n",
    "        if(s in ['a', 'e', 'i', 'o', 'u']):\n",
    "            ans['vowels'] += 1\n",
    "        else:\n",
    "            ans['consonants'] += 1\n",
    "    return ans"
   ]
  },
  {
   "cell_type": "code",
   "execution_count": 54,
   "id": "2231b609-f73b-4cec-ba59-da2c84e4748a",
   "metadata": {},
   "outputs": [],
   "source": [
    "def matrixMultiplication(mat1, mat2):\n",
    "    if(len(mat1[0]) != len(mat2)):\n",
    "        return \"Matrices are not multipliable\"\n",
    "    ans = np.zeros((len(mat1[0]), len(mat2)))\n",
    "    for i in range(len(mat1)):\n",
    "        for j in range(len(mat2[0])):\n",
    "            for k in range(len(mat2)):\n",
    "                ans[i][j] += mat1[i][k] * mat2[k][j]\n",
    "    return ans    "
   ]
  },
  {
   "cell_type": "code",
   "execution_count": 55,
   "id": "5e3dc414-7bdc-4958-88d8-be90637f038c",
   "metadata": {},
   "outputs": [],
   "source": [
    "def commonElements(list1, list2):\n",
    "    common = list()\n",
    "    for i in list1:\n",
    "        if(i in list1 and i in list2 and i not in common):\n",
    "            common.append(i)\n",
    "    return common"
   ]
  },
  {
   "cell_type": "code",
   "execution_count": 56,
   "id": "ebdf5ec7-16c3-4490-82ae-75a8e8f9985a",
   "metadata": {},
   "outputs": [],
   "source": [
    "def transpose(mat):\n",
    "    ans = np.zeros((len(mat[0]), len(mat)))\n",
    "    for i in range(len(mat)):\n",
    "        for j in range(len(mat[0])):\n",
    "            ans[j][i] = mat[i][j]\n",
    "    return ans"
   ]
  },
  {
   "cell_type": "code",
   "execution_count": 57,
   "id": "841c164f-88c3-424b-9427-e23136f0b533",
   "metadata": {},
   "outputs": [
    {
     "name": "stdout",
     "output_type": "stream",
     "text": [
      "Number of consonants :  4\n",
      "Number of vowels :  3\n",
      "{'consonants': 4, 'vowels': 3}\n"
     ]
    }
   ],
   "source": [
    "s = \"machine\"\n",
    "print(\"Number of consonants : \", countConsonants(s))\n",
    "print(\"Number of vowels : \", countVowels(s))\n",
    "print(countConsonantsAndVowels(s))"
   ]
  },
  {
   "cell_type": "code",
   "execution_count": 58,
   "id": "91a58e73-29bf-4813-a12c-07d5c8bba729",
   "metadata": {},
   "outputs": [
    {
     "data": {
      "text/plain": [
       "array([[ 8.,  8., 24.],\n",
       "       [20., 18., 51.],\n",
       "       [12., 30., 65.]])"
      ]
     },
     "execution_count": 58,
     "metadata": {},
     "output_type": "execute_result"
    }
   ],
   "source": [
    "m1 = np.array(\n",
    "    [\n",
    "        [1,1,2],\n",
    "        [2,3,4],\n",
    "        [6,1,4]\n",
    "    ]\n",
    ")\n",
    "m2 = np.array(\n",
    "    [\n",
    "        [0,4,5],\n",
    "        [4,2,3],\n",
    "        [2,1,8]\n",
    "    ]\n",
    ")\n",
    "matrixMultiplication(m1, m2)"
   ]
  },
  {
   "cell_type": "code",
   "execution_count": 59,
   "id": "70cd7b4d-73ef-4d87-901f-192d9717a9c9",
   "metadata": {},
   "outputs": [
    {
     "name": "stdout",
     "output_type": "stream",
     "text": [
      "Number of common elements in given lists are :  4\n"
     ]
    }
   ],
   "source": [
    "l1 = [2,1,3,4,6,2]\n",
    "l2 = [5,6,3,4,6,2]\n",
    "print(\"Number of common elements in given lists are : \", len(commonElements(l1, l2)))"
   ]
  },
  {
   "cell_type": "code",
   "execution_count": 60,
   "id": "2e5055c0-c4b8-4a15-8e6b-e9be5f8a6a2c",
   "metadata": {},
   "outputs": [
    {
     "data": {
      "text/plain": [
       "array([[1., 2., 6., 2.],\n",
       "       [1., 3., 1., 3.],\n",
       "       [2., 4., 4., 4.]])"
      ]
     },
     "execution_count": 60,
     "metadata": {},
     "output_type": "execute_result"
    }
   ],
   "source": [
    "m1 = np.array(\n",
    "    [\n",
    "        [1,1,2],\n",
    "        [2,3,4],\n",
    "        [6,1,4],\n",
    "        [2,3,4]\n",
    "    ]\n",
    ")\n",
    "transpose(m1)"
   ]
  },
  {
   "cell_type": "code",
   "execution_count": null,
   "id": "64eef436-20cb-45f0-8c42-4a8cc8f0bfe4",
   "metadata": {},
   "outputs": [],
   "source": []
  }
 ],
 "metadata": {
  "kernelspec": {
   "display_name": "Python 3 (ipykernel)",
   "language": "python",
   "name": "python3"
  },
  "language_info": {
   "codemirror_mode": {
    "name": "ipython",
    "version": 3
   },
   "file_extension": ".py",
   "mimetype": "text/x-python",
   "name": "python",
   "nbconvert_exporter": "python",
   "pygments_lexer": "ipython3",
   "version": "3.11.7"
  }
 },
 "nbformat": 4,
 "nbformat_minor": 5
}
